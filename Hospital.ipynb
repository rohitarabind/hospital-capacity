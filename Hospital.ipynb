{
 "cells": [
  {
   "cell_type": "code",
   "execution_count": 1,
   "metadata": {},
   "outputs": [],
   "source": [
    "import simpy\n",
    "import random\n",
    "import pandas as pd\n",
    "import matplotlib.pyplot as plt\n",
    "%matplotlib inline"
   ]
  },
  {
   "cell_type": "code",
   "execution_count": 48,
   "metadata": {},
   "outputs": [],
   "source": [
    "def patient(env,i,p_length_of_stay):\n",
    "    # add 1 to bed count while the patient is in the hospital\n",
    "    glob_variables.patient_count+=1\n",
    "    # patient takes up 1 bed=\n",
    "    with beds.request() as req:\n",
    "        yield req\n",
    "        # trigger event when the patient is better\n",
    "        yield env.timeout(p_length_of_stay)\n",
    "    # reduce bed count after patient leaves\n",
    "    glob_variables.patient_count-=1\n",
    "\n",
    "def new_patient(env,inter_arrival_time,length_of_stay):\n",
    "    i = 0\n",
    "    while True:\n",
    "        i+=1\n",
    "        # patient length of stay is drawn from exponential distribution\n",
    "        p_length_of_stay = random.expovariate(1/length_of_stay)\n",
    "        # create a new patient\n",
    "        p = patient(env,i,p_length_of_stay)\n",
    "        # start patient process\n",
    "        env.process(p)\n",
    "        # define next patient based on inter arrival time\n",
    "        next_p = random.expovariate(1/inter_arrival_time)\n",
    "        # trigger event when new patient comes\n",
    "        yield env.timeout(next_p)"
   ]
  },
  {
   "cell_type": "code",
   "execution_count": 49,
   "metadata": {},
   "outputs": [],
   "source": [
    "def check(env, delay):\n",
    "    yield env.timeout(delay)\n",
    "    while True:\n",
    "        glob_variables.check_times.append(env.now)\n",
    "        glob_variables.check_beds.append(beds.count)\n",
    "        glob_variables.check_untreated.append(glob_variables.patient_count-beds.count)\n",
    "        yield env.timeout(glob_variables.check_intervals)"
   ]
  },
  {
   "cell_type": "code",
   "execution_count": 73,
   "metadata": {},
   "outputs": [],
   "source": [
    "class glob_variables:\n",
    "    patient_count = 0\n",
    "    mean_inter_arrival_time = .1\n",
    "    mean_length_of_stay = 21\n",
    "    max_bed_capacity = 100\n",
    "    sim_duration = 600\n",
    "    check_times = []\n",
    "    check_beds = []\n",
    "    check_untreated = []\n",
    "    check_intervals = 7\n",
    "    delay = 7"
   ]
  },
  {
   "cell_type": "code",
   "execution_count": 74,
   "metadata": {},
   "outputs": [],
   "source": [
    "env = simpy.Environment()\n",
    "beds = simpy.Resource(env, capacity = glob_variables.max_bed_capacity)\n",
    "env.process(new_patient(env,glob_variables.mean_inter_arrival_time,glob_variables.mean_length_of_stay))\n",
    "env.process(check(env,glob_variables.delay))\n",
    "env.run(until=glob_variables.sim_duration)"
   ]
  },
  {
   "cell_type": "code",
   "execution_count": 75,
   "metadata": {},
   "outputs": [],
   "source": [
    "Hospital_Ut = pd.DataFrame()\n",
    "Hospital_Ut[\"Days Since Outbreak\"] = glob_variables.check_times\n",
    "Hospital_Ut[\"Bed Count\"] = glob_variables.check_beds\n",
    "Hospital_Ut[\"Untreated Patients\"] = glob_variables.check_untreated"
   ]
  },
  {
   "cell_type": "code",
   "execution_count": 76,
   "metadata": {},
   "outputs": [
    {
     "data": {
      "text/html": [
       "<div>\n",
       "<style scoped>\n",
       "    .dataframe tbody tr th:only-of-type {\n",
       "        vertical-align: middle;\n",
       "    }\n",
       "\n",
       "    .dataframe tbody tr th {\n",
       "        vertical-align: top;\n",
       "    }\n",
       "\n",
       "    .dataframe thead th {\n",
       "        text-align: right;\n",
       "    }\n",
       "</style>\n",
       "<table border=\"1\" class=\"dataframe\">\n",
       "  <thead>\n",
       "    <tr style=\"text-align: right;\">\n",
       "      <th></th>\n",
       "      <th>Days Since Outbreak</th>\n",
       "      <th>Bed Count</th>\n",
       "      <th>Untreated Patients</th>\n",
       "    </tr>\n",
       "  </thead>\n",
       "  <tbody>\n",
       "    <tr>\n",
       "      <th>0</th>\n",
       "      <td>7</td>\n",
       "      <td>63</td>\n",
       "      <td>0</td>\n",
       "    </tr>\n",
       "    <tr>\n",
       "      <th>1</th>\n",
       "      <td>14</td>\n",
       "      <td>100</td>\n",
       "      <td>11</td>\n",
       "    </tr>\n",
       "    <tr>\n",
       "      <th>2</th>\n",
       "      <td>21</td>\n",
       "      <td>100</td>\n",
       "      <td>53</td>\n",
       "    </tr>\n",
       "    <tr>\n",
       "      <th>3</th>\n",
       "      <td>28</td>\n",
       "      <td>100</td>\n",
       "      <td>85</td>\n",
       "    </tr>\n",
       "    <tr>\n",
       "      <th>4</th>\n",
       "      <td>35</td>\n",
       "      <td>100</td>\n",
       "      <td>117</td>\n",
       "    </tr>\n",
       "    <tr>\n",
       "      <th>...</th>\n",
       "      <td>...</td>\n",
       "      <td>...</td>\n",
       "      <td>...</td>\n",
       "    </tr>\n",
       "    <tr>\n",
       "      <th>80</th>\n",
       "      <td>567</td>\n",
       "      <td>100</td>\n",
       "      <td>2934</td>\n",
       "    </tr>\n",
       "    <tr>\n",
       "      <th>81</th>\n",
       "      <td>574</td>\n",
       "      <td>100</td>\n",
       "      <td>2988</td>\n",
       "    </tr>\n",
       "    <tr>\n",
       "      <th>82</th>\n",
       "      <td>581</td>\n",
       "      <td>100</td>\n",
       "      <td>3029</td>\n",
       "    </tr>\n",
       "    <tr>\n",
       "      <th>83</th>\n",
       "      <td>588</td>\n",
       "      <td>100</td>\n",
       "      <td>3048</td>\n",
       "    </tr>\n",
       "    <tr>\n",
       "      <th>84</th>\n",
       "      <td>595</td>\n",
       "      <td>100</td>\n",
       "      <td>3081</td>\n",
       "    </tr>\n",
       "  </tbody>\n",
       "</table>\n",
       "<p>85 rows × 3 columns</p>\n",
       "</div>"
      ],
      "text/plain": [
       "    Days Since Outbreak  Bed Count  Untreated Patients\n",
       "0                     7         63                   0\n",
       "1                    14        100                  11\n",
       "2                    21        100                  53\n",
       "3                    28        100                  85\n",
       "4                    35        100                 117\n",
       "..                  ...        ...                 ...\n",
       "80                  567        100                2934\n",
       "81                  574        100                2988\n",
       "82                  581        100                3029\n",
       "83                  588        100                3048\n",
       "84                  595        100                3081\n",
       "\n",
       "[85 rows x 3 columns]"
      ]
     },
     "execution_count": 76,
     "metadata": {},
     "output_type": "execute_result"
    }
   ],
   "source": [
    "Hospital_Ut"
   ]
  },
  {
   "cell_type": "code",
   "execution_count": 154,
   "metadata": {},
   "outputs": [],
   "source": [
    "def plot_graph(x,y):\n",
    "    fig = plt.figure()\n",
    "    ax = fig.add_axes([0,0,1,1])\n",
    "    ax.plot(Hospital_Ut[x],Hospital_Ut[y])\n",
    "    ax.set_xlabel(str(x))\n",
    "    ax.set_ylabel(str(y))\n",
    "    plt.xlim(0,glob_variables.sim_duration)\n",
    "    plt.title(\"{} vs. {}y vs. x,fontweight = \"bold\")"
   ]
  }
 ],
 "metadata": {
  "kernelspec": {
   "display_name": "Python 3",
   "language": "python",
   "name": "python3"
  },
  "language_info": {
   "codemirror_mode": {
    "name": "ipython",
    "version": 3
   },
   "file_extension": ".py",
   "mimetype": "text/x-python",
   "name": "python",
   "nbconvert_exporter": "python",
   "pygments_lexer": "ipython3",
   "version": "3.7.6"
  }
 },
 "nbformat": 4,
 "nbformat_minor": 4
}
