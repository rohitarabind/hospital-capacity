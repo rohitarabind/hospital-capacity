{
 "cells": [
  {
   "cell_type": "code",
   "execution_count": 12,
   "metadata": {},
   "outputs": [],
   "source": [
    "import simpy\n",
    "import random\n",
    "import pandas as pd\n",
    "import matplotlib"
   ]
  },
  {
   "cell_type": "code",
   "execution_count": 28,
   "metadata": {},
   "outputs": [],
   "source": [
    "def patient(env,i,p_length_of_stay):\n",
    "    # add 1 to bed count while the patient is in the hospital\n",
    "    glob_variables.bed_count+=1\n",
    "    # trigger event when the patient is better\n",
    "    yield env.timeout(p_length_of_stay)\n",
    "    # reduce bed count after patient leaves\n",
    "    glob_variables.bed_count-=1\n",
    "    \n",
    "def new_patient(env,inter_arrival_time,length_of_stay):\n",
    "    i = 0\n",
    "    while True:\n",
    "        i+=1\n",
    "        # patient length of stay is drawn from exponential distribution\n",
    "        p_length_of_stay = random.expovariate(1/length_of_stay)\n",
    "        # create a new patient\n",
    "        p = patient(env,i,p_length_of_stay)\n",
    "        # start patient process\n",
    "        env.process(p)\n",
    "        # define next patient based on inter arrival time\n",
    "        next_p = random.expovariate(1/inter_arrival_time)\n",
    "        # trigger event when new patient comes\n",
    "        yield env.timeout(next_p)"
   ]
  },
  {
   "cell_type": "code",
   "execution_count": 29,
   "metadata": {},
   "outputs": [],
   "source": [
    "def check(env, delay):\n",
    "    yield env.timeout(delay)\n",
    "    while True:\n",
    "        glob_variables.check_times.append(env.now)\n",
    "        glob_variables.check_beds.append(glob_variables.bed_count)\n",
    "        yield env.timeout(glob_variables.check_intervals)"
   ]
  },
  {
   "cell_type": "code",
   "execution_count": 30,
   "metadata": {},
   "outputs": [
    {
     "data": {
      "text/plain": [
       "<Process(check) object at 0x11c2d8cd0>"
      ]
     },
     "execution_count": 30,
     "metadata": {},
     "output_type": "execute_result"
    }
   ],
   "source": [
    "env = simpy.Environment()\n",
    "env.process(new_patient(env,glob_variables.mean_inter_arrival_time,glob_variables.mean_length_of_stay))\n",
    "env.process(check(env,120))"
   ]
  },
  {
   "cell_type": "code",
   "execution_count": 31,
   "metadata": {},
   "outputs": [],
   "source": [
    "env.run(until=glob_variables.sim_duration)"
   ]
  },
  {
   "cell_type": "code",
   "execution_count": null,
   "metadata": {},
   "outputs": [],
   "source": [
    "class glob_variables:\n",
    "    bed_count = 0\n",
    "    mean_inter_arrival_time = .2\n",
    "    mean_length_of_stay = 21\n",
    "    sim_duration = 548\n",
    "    check_times = []\n",
    "    check_beds = []\n",
    "    check_intervals = 7"
   ]
  },
  {
   "cell_type": "code",
   "execution_count": 32,
   "metadata": {},
   "outputs": [
    {
     "data": {
      "text/plain": [
       "[108,\n",
       " 106,\n",
       " 97,\n",
       " 100,\n",
       " 98,\n",
       " 100,\n",
       " 93,\n",
       " 101,\n",
       " 98,\n",
       " 105,\n",
       " 114,\n",
       " 112,\n",
       " 102,\n",
       " 90,\n",
       " 96,\n",
       " 95,\n",
       " 106,\n",
       " 111,\n",
       " 109,\n",
       " 94,\n",
       " 91,\n",
       " 86,\n",
       " 100,\n",
       " 97,\n",
       " 91,\n",
       " 107,\n",
       " 102,\n",
       " 99,\n",
       " 101,\n",
       " 112,\n",
       " 122,\n",
       " 114,\n",
       " 107,\n",
       " 112,\n",
       " 100,\n",
       " 121,\n",
       " 122,\n",
       " 126,\n",
       " 103,\n",
       " 111,\n",
       " 110,\n",
       " 110,\n",
       " 112,\n",
       " 109,\n",
       " 99,\n",
       " 104,\n",
       " 105,\n",
       " 100,\n",
       " 102,\n",
       " 99,\n",
       " 103,\n",
       " 97,\n",
       " 80,\n",
       " 90,\n",
       " 98,\n",
       " 102,\n",
       " 105,\n",
       " 115,\n",
       " 111,\n",
       " 117,\n",
       " 116,\n",
       " 111]"
      ]
     },
     "execution_count": 32,
     "metadata": {},
     "output_type": "execute_result"
    }
   ],
   "source": [
    "glob_variables.check_beds"
   ]
  },
  {
   "cell_type": "code",
   "execution_count": null,
   "metadata": {},
   "outputs": [],
   "source": []
  }
 ],
 "metadata": {
  "kernelspec": {
   "display_name": "Python 3",
   "language": "python",
   "name": "python3"
  },
  "language_info": {
   "codemirror_mode": {
    "name": "ipython",
    "version": 3
   },
   "file_extension": ".py",
   "mimetype": "text/x-python",
   "name": "python",
   "nbconvert_exporter": "python",
   "pygments_lexer": "ipython3",
   "version": "3.7.6"
  }
 },
 "nbformat": 4,
 "nbformat_minor": 4
}
